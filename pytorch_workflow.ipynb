{
  "nbformat": 4,
  "nbformat_minor": 0,
  "metadata": {
    "colab": {
      "provenance": [],
      "machine_shape": "hm",
      "gpuType": "A100",
      "toc_visible": true,
      "authorship_tag": "ABX9TyNqa6vPOg0KdfvptByYW2XB",
      "include_colab_link": true
    },
    "kernelspec": {
      "name": "python3",
      "display_name": "Python 3"
    },
    "language_info": {
      "name": "python"
    },
    "accelerator": "GPU"
  },
  "cells": [
    {
      "cell_type": "markdown",
      "metadata": {
        "id": "view-in-github",
        "colab_type": "text"
      },
      "source": [
        "<a href=\"https://colab.research.google.com/github/mrdbcse/deep-learning-pytorch/blob/master/pytorch_workflow.ipynb\" target=\"_parent\"><img src=\"https://colab.research.google.com/assets/colab-badge.svg\" alt=\"Open In Colab\"/></a>"
      ]
    },
    {
      "cell_type": "markdown",
      "source": [
        "# PyTorch Workflow\n",
        "\n",
        "* Link: https://www.learnpytorch.io/01_pytorch_workflow/"
      ],
      "metadata": {
        "id": "vJlK6IBAjPg-"
      }
    },
    {
      "cell_type": "code",
      "execution_count": 3,
      "metadata": {
        "colab": {
          "base_uri": "https://localhost:8080/"
        },
        "id": "_hi7JLTxheoc",
        "outputId": "bb200b9d-5e76-4d2a-c31a-72b53e4bb5e5"
      },
      "outputs": [
        {
          "output_type": "stream",
          "name": "stdout",
          "text": [
            "Sat Feb 22 17:04:58 2025       \n",
            "+-----------------------------------------------------------------------------------------+\n",
            "| NVIDIA-SMI 550.54.15              Driver Version: 550.54.15      CUDA Version: 12.4     |\n",
            "|-----------------------------------------+------------------------+----------------------+\n",
            "| GPU  Name                 Persistence-M | Bus-Id          Disp.A | Volatile Uncorr. ECC |\n",
            "| Fan  Temp   Perf          Pwr:Usage/Cap |           Memory-Usage | GPU-Util  Compute M. |\n",
            "|                                         |                        |               MIG M. |\n",
            "|=========================================+========================+======================|\n",
            "|   0  NVIDIA A100-SXM4-40GB          Off |   00000000:00:04.0 Off |                    0 |\n",
            "| N/A   30C    P0             40W /  400W |       0MiB /  40960MiB |      0%      Default |\n",
            "|                                         |                        |             Disabled |\n",
            "+-----------------------------------------+------------------------+----------------------+\n",
            "                                                                                         \n",
            "+-----------------------------------------------------------------------------------------+\n",
            "| Processes:                                                                              |\n",
            "|  GPU   GI   CI        PID   Type   Process name                              GPU Memory |\n",
            "|        ID   ID                                                               Usage      |\n",
            "|=========================================================================================|\n",
            "|  No running processes found                                                             |\n",
            "+-----------------------------------------------------------------------------------------+\n"
          ]
        }
      ],
      "source": [
        "!nvidia-smi"
      ]
    },
    {
      "cell_type": "code",
      "source": [
        "import torch\n",
        "from torch import nn # These are the basic building blocks for graphs (nural network)\n",
        "import matplotlib.pyplot as plt\n",
        "\n",
        "\n",
        "# torch version\n",
        "torch.__version__"
      ],
      "metadata": {
        "id": "AYKOOQK5jcPL",
        "colab": {
          "base_uri": "https://localhost:8080/",
          "height": 36
        },
        "outputId": "eb81b888-2655-495a-edca-c1df31db33f9"
      },
      "execution_count": 4,
      "outputs": [
        {
          "output_type": "execute_result",
          "data": {
            "text/plain": [
              "'2.5.1+cu124'"
            ],
            "application/vnd.google.colaboratory.intrinsic+json": {
              "type": "string"
            }
          },
          "metadata": {},
          "execution_count": 4
        }
      ]
    },
    {
      "cell_type": "markdown",
      "source": [
        "### Data preparing and Loading"
      ],
      "metadata": {
        "id": "qc5MQKJBlgVo"
      }
    },
    {
      "cell_type": "code",
      "source": [
        "# 1. Linear regression\n",
        "# formula: y = a + bx\n",
        "\n",
        "weight = 0.7 # b\n",
        "bias = 0.3 # a\n",
        "\n",
        "start = 0\n",
        "end = 1\n",
        "step = 0.02\n",
        "\n",
        "X = torch.arange(start, end, step).unsqueeze(dim=1)\n",
        "y = weight * X + bias\n",
        "\n",
        "X[:10], y[:10]\n",
        "\n"
      ],
      "metadata": {
        "id": "D8HIEDc8jeGq",
        "colab": {
          "base_uri": "https://localhost:8080/"
        },
        "outputId": "a0b7d642-aee5-4738-8288-fa3973ced9f1"
      },
      "execution_count": 5,
      "outputs": [
        {
          "output_type": "execute_result",
          "data": {
            "text/plain": [
              "(tensor([[0.0000],\n",
              "         [0.0200],\n",
              "         [0.0400],\n",
              "         [0.0600],\n",
              "         [0.0800],\n",
              "         [0.1000],\n",
              "         [0.1200],\n",
              "         [0.1400],\n",
              "         [0.1600],\n",
              "         [0.1800]]),\n",
              " tensor([[0.3000],\n",
              "         [0.3140],\n",
              "         [0.3280],\n",
              "         [0.3420],\n",
              "         [0.3560],\n",
              "         [0.3700],\n",
              "         [0.3840],\n",
              "         [0.3980],\n",
              "         [0.4120],\n",
              "         [0.4260]]))"
            ]
          },
          "metadata": {},
          "execution_count": 5
        }
      ]
    },
    {
      "cell_type": "code",
      "source": [
        "len(X), len(y)"
      ],
      "metadata": {
        "id": "1oJpPu8sjeni",
        "colab": {
          "base_uri": "https://localhost:8080/"
        },
        "outputId": "47c10505-293a-4d57-91c6-1732384f0fca"
      },
      "execution_count": 6,
      "outputs": [
        {
          "output_type": "execute_result",
          "data": {
            "text/plain": [
              "(50, 50)"
            ]
          },
          "metadata": {},
          "execution_count": 6
        }
      ]
    },
    {
      "cell_type": "markdown",
      "source": [
        "### Splitting data into training and test sets"
      ],
      "metadata": {
        "id": "fden6EQOp8Dd"
      }
    },
    {
      "cell_type": "code",
      "source": [
        "# create a train/ test split\n",
        "\n",
        "train_split = int(0.8 * len(X))\n",
        "X_train, y_train = X[:train_split], y[:train_split]\n",
        "X_test, y_test = X[train_split:], y[train_split:]\n",
        "\n",
        "len(X_train), len(X_test), len(y_train), len(y_test)"
      ],
      "metadata": {
        "id": "yyMcaby_jfAv",
        "colab": {
          "base_uri": "https://localhost:8080/"
        },
        "outputId": "743096d7-7688-4a15-8af8-15d7fe0cbc5b"
      },
      "execution_count": 7,
      "outputs": [
        {
          "output_type": "execute_result",
          "data": {
            "text/plain": [
              "(40, 10, 40, 10)"
            ]
          },
          "metadata": {},
          "execution_count": 7
        }
      ]
    },
    {
      "cell_type": "markdown",
      "source": [
        "### Data Visualization\n"
      ],
      "metadata": {
        "id": "4IOWWtwpsvwC"
      }
    },
    {
      "cell_type": "code",
      "source": [
        "def plot_predictions(train_data = X_train, train_labels = y_train, test_data = X_test, test_labels = y_test, predictions = None):\n",
        "  \"\"\"\n",
        "  Plots training data, test data and compares predictions.\n",
        "  \"\"\"\n",
        "\n",
        "  plt.figure(figsize=(10, 7))\n",
        "\n",
        "  # training data\n",
        "  plt.scatter(train_data, train_labels, c=\"b\", s=4, label=\"Training Data\")\n",
        "\n",
        "  # testing data\n",
        "  plt.scatter(test_data, test_labels, c=\"r\", s=4, label=\"Testing Data\")\n",
        "\n",
        "  # plot predictions\n",
        "  if predictions is not None:\n",
        "    plt.scatter(test_data, predictions, c=\"y\", s=4, label=\"Predictions\")\n",
        "\n",
        "  # legends\n",
        "  plt.legend(prop={\"size\": 14})"
      ],
      "metadata": {
        "id": "Np1smYgxjfXD"
      },
      "execution_count": 8,
      "outputs": []
    },
    {
      "cell_type": "code",
      "source": [
        "plot_predictions()"
      ],
      "metadata": {
        "id": "Wtl4-oTLjfq-",
        "colab": {
          "base_uri": "https://localhost:8080/",
          "height": 599
        },
        "outputId": "819a61fa-eab5-48e0-8605-42bdf72cdbed"
      },
      "execution_count": 9,
      "outputs": [
        {
          "output_type": "display_data",
          "data": {
            "text/plain": [
              "<Figure size 1000x700 with 1 Axes>"
            ],
            "image/png": "[encoded data removed]"
          },
          "metadata": {}
        }
      ]
    },
    {
      "cell_type": "markdown",
      "source": [
        "### Building PyTorch Model\n"
      ],
      "metadata": {
        "id": "wFBy9cMv1WIf"
      }
    },
    {
      "cell_type": "code",
      "source": [
        "from torch import nn\n",
        "\n",
        "# create a linear regression model\n",
        "\n",
        "class LinearRegressionModel(nn.Module):\n",
        "  def __init__(self):\n",
        "    super().__init__()\n",
        "    self.weights = nn.Parameter(torch.randn(1, dtype=torch.float), requires_grad=True)\n",
        "    self.bias = nn.Parameter(torch.randn(1, dtype=torch.float), requires_grad=True)\n",
        "\n",
        "  def forward(self, x: torch.Tensor) -> torch.Tensor:\n",
        "    return self.weights * x + self.bias\n"
      ],
      "metadata": {
        "id": "weVQq4zJ1bgT"
      },
      "execution_count": 10,
      "outputs": []
    },
    {
      "cell_type": "markdown",
      "source": [
        "### Checking the contents of a PyTorch model"
      ],
      "metadata": {
        "id": "7q7I2XHH7YFt"
      }
    },
    {
      "cell_type": "code",
      "source": [
        "torch.manual_seed(42)\n",
        "\n",
        "model_0 = LinearRegressionModel()\n",
        "print(list(model_0.parameters()))\n",
        "print(model_0.state_dict())"
      ],
      "metadata": {
        "id": "81delX691bc2",
        "colab": {
          "base_uri": "https://localhost:8080/"
        },
        "outputId": "d8f1d727-0c8f-4fc3-aa51-7c04eb522df5"
      },
      "execution_count": 11,
      "outputs": [
        {
          "output_type": "stream",
          "name": "stdout",
          "text": [
            "[Parameter containing:\n",
            "tensor([0.3367], requires_grad=True), Parameter containing:\n",
            "tensor([0.1288], requires_grad=True)]\n",
            "OrderedDict([('weights', tensor([0.3367])), ('bias', tensor([0.1288]))])\n"
          ]
        }
      ]
    },
    {
      "cell_type": "markdown",
      "source": [
        "### Making predictions using `torch.inference_mode()`"
      ],
      "metadata": {
        "id": "b31kV1AEBo_O"
      }
    },
    {
      "cell_type": "code",
      "source": [
        "# make predictions\n",
        "\n",
        "with torch.inference_mode():\n",
        "  y_preds = model_0(X_test)\n",
        "\n",
        "# check predictions\n",
        "\n",
        "print(f\"Number of testing samples: {len(X_test)}\")\n",
        "print(f\"Number of predictions made: {len(y_preds)}\")\n",
        "\n",
        "print(f\"Predicted values: {y_preds}\")"
      ],
      "metadata": {
        "id": "pekjs17P1bZ_",
        "colab": {
          "base_uri": "https://localhost:8080/"
        },
        "outputId": "d153694c-e9f6-492f-890d-fdf1b5d29eca"
      },
      "execution_count": 12,
      "outputs": [
        {
          "output_type": "stream",
          "name": "stdout",
          "text": [
            "Number of testing samples: 10\n",
            "Number of predictions made: 10\n",
            "Predicted values: tensor([[0.3982],\n",
            "        [0.4049],\n",
            "        [0.4116],\n",
            "        [0.4184],\n",
            "        [0.4251],\n",
            "        [0.4318],\n",
            "        [0.4386],\n",
            "        [0.4453],\n",
            "        [0.4520],\n",
            "        [0.4588]])\n"
          ]
        }
      ]
    },
    {
      "cell_type": "code",
      "source": [
        "plot_predictions(predictions=y_preds)"
      ],
      "metadata": {
        "id": "aYjldUVP1bQo",
        "colab": {
          "base_uri": "https://localhost:8080/",
          "height": 599
        },
        "outputId": "79c00cfd-dd53-4e6d-cbfb-c77032a93fad"
      },
      "execution_count": 13,
      "outputs": [
        {
          "output_type": "display_data",
          "data": {
            "text/plain": [
              "<Figure size 1000x700 with 1 Axes>"
            ],
            "image/png": "[encoded data removed]"
          },
          "metadata": {}
        }
      ]
    },
    {
      "cell_type": "markdown",
      "source": [
        "### Creating a Loss function and Optimizer"
      ],
      "metadata": {
        "id": "Z78MubzEIs5v"
      }
    },
    {
      "cell_type": "code",
      "source": [
        "# create a loss function\n",
        "loss_fn = nn.L1Loss()\n",
        "\n",
        "# create an optimizer\n",
        "optimizer = torch.optim.SGD(params=model_0.parameters(), lr=0.01)"
      ],
      "metadata": {
        "id": "Cq4v_wsHjf_H"
      },
      "execution_count": 14,
      "outputs": []
    },
    {
      "cell_type": "markdown",
      "source": [
        "### Building a Training and Testing Loop"
      ],
      "metadata": {
        "id": "dKrjgNDKZm8_"
      }
    },
    {
      "cell_type": "code",
      "source": [
        "import torch\n",
        "torch.manual_seed(42)\n",
        "# setting the number of epochs\n",
        "epochs = 100\n",
        "# creating an empty loss list to track values\n",
        "train_loss_values = []\n",
        "test_loss_values = []\n",
        "epoch_count = []\n",
        "\n",
        "for epoch in range(epochs):\n",
        "  # --------------training----------------\n",
        "  # putting model in training mode\n",
        "  model_0.train()\n",
        "\n",
        "  # 1. forward propagation on training data set\n",
        "  y_preds = model_0(X_train)\n",
        "  # print(y_pred)\n",
        "\n",
        "  # 2. calculate the loss\n",
        "  train_loss = loss_fn(y_preds, y_train)\n",
        "\n",
        "  # 3. zero grad of the optimizer\n",
        "  optimizer.zero_grad()\n",
        "\n",
        "  # 4. loss backward\n",
        "  train_loss.backward()\n",
        "\n",
        "  # 5. progress the optimizer\n",
        "  optimizer.step()\n",
        "\n",
        "  # -------------- testing ----------------\n",
        "\n",
        "  model_0.eval()\n",
        "  with torch.inference_mode():\n",
        "    # 1. forward propagation on test data set\n",
        "    test_pred = model_0(X_test)\n",
        "\n",
        "    # 2. calculate the loss on test data\n",
        "    test_loss = loss_fn(test_pred, y_test.type(torch.float))\n",
        "\n",
        "    # 3. printing bts\n",
        "    if epoch % 10 == 0:\n",
        "      epoch_count.append(epoch)\n",
        "      train_loss_values.append(train_loss.detach().numpy())\n",
        "      test_loss_values.append(test_loss.detach().numpy())\n",
        "\n",
        "      print(f\"Epoch: {epoch} | MAE Train Loss: {train_loss} | MAE Test Loss: {test_loss}\")\n",
        "\n",
        "\n",
        "\n",
        "\n"
      ],
      "metadata": {
        "id": "cRfornwOjgUg",
        "colab": {
          "base_uri": "https://localhost:8080/"
        },
        "outputId": "ec6287be-21a1-46e6-c3c2-aa4150a12576"
      },
      "execution_count": 19,
      "outputs": [
        {
          "output_type": "stream",
          "name": "stdout",
          "text": [
            "Epoch: 0 | MAE Train Loss: 0.008932482451200485 | MAE Test Loss: 0.005023092031478882\n",
            "Epoch: 10 | MAE Train Loss: 0.008932482451200485 | MAE Test Loss: 0.005023092031478882\n",
            "Epoch: 20 | MAE Train Loss: 0.008932482451200485 | MAE Test Loss: 0.005023092031478882\n",
            "Epoch: 30 | MAE Train Loss: 0.008932482451200485 | MAE Test Loss: 0.005023092031478882\n",
            "Epoch: 40 | MAE Train Loss: 0.008932482451200485 | MAE Test Loss: 0.005023092031478882\n",
            "Epoch: 50 | MAE Train Loss: 0.008932482451200485 | MAE Test Loss: 0.005023092031478882\n",
            "Epoch: 60 | MAE Train Loss: 0.008932482451200485 | MAE Test Loss: 0.005023092031478882\n",
            "Epoch: 70 | MAE Train Loss: 0.008932482451200485 | MAE Test Loss: 0.005023092031478882\n",
            "Epoch: 80 | MAE Train Loss: 0.008932482451200485 | MAE Test Loss: 0.005023092031478882\n",
            "Epoch: 90 | MAE Train Loss: 0.008932482451200485 | MAE Test Loss: 0.005023092031478882\n"
          ]
        }
      ]
    },
    {
      "cell_type": "code",
      "source": [
        "# plot_predictions(predictions=y_preds)"
      ],
      "metadata": {
        "id": "A-j7DOJZZmSC"
      },
      "execution_count": 21,
      "outputs": []
    },
    {
      "cell_type": "code",
      "source": [],
      "metadata": {
        "id": "8eyzPW5UZmOe"
      },
      "execution_count": 15,
      "outputs": []
    },
    {
      "cell_type": "code",
      "source": [],
      "metadata": {
        "id": "370tRNllZmLd"
      },
      "execution_count": 15,
      "outputs": []
    },
    {
      "cell_type": "code",
      "source": [],
      "metadata": {
        "id": "vzetVUF0ZmHz"
      },
      "execution_count": 15,
      "outputs": []
    },
    {
      "cell_type": "code",
      "source": [],
      "metadata": {
        "id": "WARDKIC3ZmDZ"
      },
      "execution_count": 15,
      "outputs": []
    },
    {
      "cell_type": "code",
      "source": [],
      "metadata": {
        "id": "QTJSvQ-cZl90"
      },
      "execution_count": 15,
      "outputs": []
    },
    {
      "cell_type": "code",
      "source": [],
      "metadata": {
        "id": "MamrSybnZl0z"
      },
      "execution_count": 15,
      "outputs": []
    }
  ]
}