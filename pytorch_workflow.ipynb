{
  "nbformat": 4,
  "nbformat_minor": 0,
  "metadata": {
    "colab": {
      "provenance": [],
      "machine_shape": "hm",
      "gpuType": "A100",
      "toc_visible": true,
      "authorship_tag": "ABX9TyOhNxhiBbmInqPKjlV/9bhl",
      "include_colab_link": true
    },
    "kernelspec": {
      "name": "python3",
      "display_name": "Python 3"
    },
    "language_info": {
      "name": "python"
    },
    "accelerator": "GPU"
  },
  "cells": [
    {
      "cell_type": "markdown",
      "metadata": {
        "id": "view-in-github",
        "colab_type": "text"
      },
      "source": [
        "<a href=\"https://colab.research.google.com/github/mrdbcse/deep-learning-pytorch/blob/master/pytorch_workflow.ipynb\" target=\"_parent\"><img src=\"https://colab.research.google.com/assets/colab-badge.svg\" alt=\"Open In Colab\"/></a>"
      ]
    },
    {
      "cell_type": "markdown",
      "source": [
        "# PyTorch Workflow\n",
        "\n",
        "* Link: https://www.learnpytorch.io/01_pytorch_workflow/"
      ],
      "metadata": {
        "id": "vJlK6IBAjPg-"
      }
    },
    {
      "cell_type": "code",
      "execution_count": 309,
      "metadata": {
        "colab": {
          "base_uri": "https://localhost:8080/"
        },
        "id": "_hi7JLTxheoc",
        "outputId": "8524fdf2-f86a-47b9-b561-ee9c931fe949"
      },
      "outputs": [
        {
          "output_type": "stream",
          "name": "stdout",
          "text": [
            "Tue Feb 25 15:25:50 2025       \n",
            "+-----------------------------------------------------------------------------------------+\n",
            "| NVIDIA-SMI 550.54.15              Driver Version: 550.54.15      CUDA Version: 12.4     |\n",
            "|-----------------------------------------+------------------------+----------------------+\n",
            "| GPU  Name                 Persistence-M | Bus-Id          Disp.A | Volatile Uncorr. ECC |\n",
            "| Fan  Temp   Perf          Pwr:Usage/Cap |           Memory-Usage | GPU-Util  Compute M. |\n",
            "|                                         |                        |               MIG M. |\n",
            "|=========================================+========================+======================|\n",
            "|   0  NVIDIA A100-SXM4-40GB          Off |   00000000:00:04.0 Off |                    0 |\n",
            "| N/A   37C    P0             49W /  400W |       5MiB /  40960MiB |      0%      Default |\n",
            "|                                         |                        |             Disabled |\n",
            "+-----------------------------------------+------------------------+----------------------+\n",
            "                                                                                         \n",
            "+-----------------------------------------------------------------------------------------+\n",
            "| Processes:                                                                              |\n",
            "|  GPU   GI   CI        PID   Type   Process name                              GPU Memory |\n",
            "|        ID   ID                                                               Usage      |\n",
            "|=========================================================================================|\n",
            "|  No running processes found                                                             |\n",
            "+-----------------------------------------------------------------------------------------+\n"
          ]
        }
      ],
      "source": [
        "!nvidia-smi"
      ]
    },
    {
      "cell_type": "code",
      "source": [
        "import torch\n",
        "from torch import nn # These are the basic building blocks for graphs (nural network)\n",
        "import matplotlib.pyplot as plt\n",
        "\n",
        "\n",
        "# torch version\n",
        "torch.__version__"
      ],
      "metadata": {
        "id": "AYKOOQK5jcPL",
        "colab": {
          "base_uri": "https://localhost:8080/",
          "height": 36
        },
        "outputId": "201a0265-d590-4902-c0f8-5daec8cb7ec9"
      },
      "execution_count": 310,
      "outputs": [
        {
          "output_type": "execute_result",
          "data": {
            "text/plain": [
              "'2.5.1+cu124'"
            ],
            "application/vnd.google.colaboratory.intrinsic+json": {
              "type": "string"
            }
          },
          "metadata": {},
          "execution_count": 310
        }
      ]
    },
    {
      "cell_type": "markdown",
      "source": [
        "### Data preparing and Loading"
      ],
      "metadata": {
        "id": "qc5MQKJBlgVo"
      }
    },
    {
      "cell_type": "code",
      "source": [
        "# 1. Linear regression\n",
        "# formula: y = a + bx\n",
        "\n",
        "weight = 0.7 # b\n",
        "bias = 0.3 # a\n",
        "\n",
        "start = 0\n",
        "end = 1\n",
        "step = 0.02\n",
        "\n",
        "X = torch.arange(start, end, step).unsqueeze(dim=1)\n",
        "y = weight * X + bias\n",
        "\n",
        "X[:10], y[:10]\n",
        "\n"
      ],
      "metadata": {
        "id": "D8HIEDc8jeGq",
        "colab": {
          "base_uri": "https://localhost:8080/"
        },
        "outputId": "039e998f-ce5e-4fb9-9d7d-5708e709a7d9"
      },
      "execution_count": 311,
      "outputs": [
        {
          "output_type": "execute_result",
          "data": {
            "text/plain": [
              "(tensor([[0.0000],\n",
              "         [0.0200],\n",
              "         [0.0400],\n",
              "         [0.0600],\n",
              "         [0.0800],\n",
              "         [0.1000],\n",
              "         [0.1200],\n",
              "         [0.1400],\n",
              "         [0.1600],\n",
              "         [0.1800]]),\n",
              " tensor([[0.3000],\n",
              "         [0.3140],\n",
              "         [0.3280],\n",
              "         [0.3420],\n",
              "         [0.3560],\n",
              "         [0.3700],\n",
              "         [0.3840],\n",
              "         [0.3980],\n",
              "         [0.4120],\n",
              "         [0.4260]]))"
            ]
          },
          "metadata": {},
          "execution_count": 311
        }
      ]
    },
    {
      "cell_type": "code",
      "source": [
        "len(X), len(y)"
      ],
      "metadata": {
        "id": "1oJpPu8sjeni",
        "colab": {
          "base_uri": "https://localhost:8080/"
        },
        "outputId": "2f8e4157-a7f4-4903-c862-9e9aeb40e736"
      },
      "execution_count": 312,
      "outputs": [
        {
          "output_type": "execute_result",
          "data": {
            "text/plain": [
              "(50, 50)"
            ]
          },
          "metadata": {},
          "execution_count": 312
        }
      ]
    },
    {
      "cell_type": "markdown",
      "source": [
        "### Splitting data into training and test sets"
      ],
      "metadata": {
        "id": "fden6EQOp8Dd"
      }
    },
    {
      "cell_type": "code",
      "source": [
        "# create a train/ test split\n",
        "\n",
        "train_split = int(0.8 * len(X))\n",
        "X_train, y_train = X[:train_split], y[:train_split]\n",
        "X_test, y_test = X[train_split:], y[train_split:]\n",
        "\n",
        "len(X_train), len(X_test), len(y_train), len(y_test)"
      ],
      "metadata": {
        "id": "yyMcaby_jfAv",
        "colab": {
          "base_uri": "https://localhost:8080/"
        },
        "outputId": "492ffe47-01b1-4905-8677-2286de2608db"
      },
      "execution_count": 313,
      "outputs": [
        {
          "output_type": "execute_result",
          "data": {
            "text/plain": [
              "(40, 10, 40, 10)"
            ]
          },
          "metadata": {},
          "execution_count": 313
        }
      ]
    },
    {
      "cell_type": "markdown",
      "source": [
        "### Data Visualization\n"
      ],
      "metadata": {
        "id": "4IOWWtwpsvwC"
      }
    },
    {
      "cell_type": "code",
      "source": [
        "def plot_predictions(train_data = X_train, train_labels = y_train, test_data = X_test, test_labels = y_test, predictions = None):\n",
        "  \"\"\"\n",
        "  Plots training data, test data and compares predictions.\n",
        "  \"\"\"\n",
        "\n",
        "  plt.figure(figsize=(10, 7))\n",
        "\n",
        "  # training data\n",
        "  plt.scatter(train_data, train_labels, c=\"b\", s=4, label=\"Training Data\")\n",
        "\n",
        "  # testing data\n",
        "  plt.scatter(test_data, test_labels, c=\"g\", s=4, label=\"Testing Data\")\n",
        "\n",
        "  # plot predictions\n",
        "  if predictions is not None:\n",
        "    plt.scatter(test_data, predictions, c=\"r\", s=4, label=\"Predictions\")\n",
        "\n",
        "  # legends\n",
        "  plt.legend(prop={\"size\": 14})"
      ],
      "metadata": {
        "id": "Np1smYgxjfXD"
      },
      "execution_count": 314,
      "outputs": []
    },
    {
      "cell_type": "code",
      "source": [
        "plot_predictions()"
      ],
      "metadata": {
        "id": "Wtl4-oTLjfq-",
        "colab": {
          "base_uri": "https://localhost:8080/",
          "height": 599
        },
        "outputId": "f5ca8a7c-606a-4c3b-f4c6-492cff19f22c"
      },
      "execution_count": 315,
      "outputs": [
        {
          "output_type": "display_data",
          "data": {
            "text/plain": [
              "<Figure size 1000x700 with 1 Axes>"
            ],
            "image/png": "[encoded data removed]"
          },
          "metadata": {}
        }
      ]
    },
    {
      "cell_type": "markdown",
      "source": [
        "### Building PyTorch Model\n"
      ],
      "metadata": {
        "id": "wFBy9cMv1WIf"
      }
    },
    {
      "cell_type": "code",
      "source": [
        "from torch import nn\n",
        "\n",
        "# create a linear regression model\n",
        "\n",
        "class LinearRegressionModel(nn.Module):\n",
        "  def __init__(self):\n",
        "    super().__init__()\n",
        "    self.weights = nn.Parameter(torch.randn(1, dtype=torch.float), requires_grad=True)\n",
        "    self.bias = nn.Parameter(torch.randn(1, dtype=torch.float), requires_grad=True)\n",
        "\n",
        "  def forward(self, x: torch.Tensor) -> torch.Tensor:\n",
        "    return self.weights * x + self.bias\n"
      ],
      "metadata": {
        "id": "weVQq4zJ1bgT"
      },
      "execution_count": 316,
      "outputs": []
    },
    {
      "cell_type": "markdown",
      "source": [
        "### Checking the contents of a PyTorch model"
      ],
      "metadata": {
        "id": "7q7I2XHH7YFt"
      }
    },
    {
      "cell_type": "code",
      "source": [
        "torch.manual_seed(42)\n",
        "\n",
        "model_0 = LinearRegressionModel()\n",
        "print(list(model_0.parameters()))\n",
        "print(model_0.state_dict())"
      ],
      "metadata": {
        "id": "81delX691bc2",
        "colab": {
          "base_uri": "https://localhost:8080/"
        },
        "outputId": "0b361fcd-d02a-4d0c-8a00-3f6475d86519"
      },
      "execution_count": 317,
      "outputs": [
        {
          "output_type": "stream",
          "name": "stdout",
          "text": [
            "[Parameter containing:\n",
            "tensor([0.3367], requires_grad=True), Parameter containing:\n",
            "tensor([0.1288], requires_grad=True)]\n",
            "OrderedDict([('weights', tensor([0.3367])), ('bias', tensor([0.1288]))])\n"
          ]
        }
      ]
    },
    {
      "cell_type": "markdown",
      "source": [
        "### Making predictions using `torch.inference_mode()`"
      ],
      "metadata": {
        "id": "b31kV1AEBo_O"
      }
    },
    {
      "cell_type": "code",
      "source": [
        "# make predictions\n",
        "\n",
        "with torch.inference_mode():\n",
        "  y_pred = model_0(X_test)\n",
        "\n",
        "# check predictions\n",
        "\n",
        "print(f\"Number of testing samples: {len(X_test)}\")\n",
        "print(f\"Number of predictions made: {len(y_pred)}\")\n",
        "\n",
        "print(f\"Predicted values: {y_pred}\")"
      ],
      "metadata": {
        "id": "pekjs17P1bZ_",
        "colab": {
          "base_uri": "https://localhost:8080/"
        },
        "outputId": "94167c85-6f29-4fd3-ff39-0d31c3fdee9e"
      },
      "execution_count": 318,
      "outputs": [
        {
          "output_type": "stream",
          "name": "stdout",
          "text": [
            "Number of testing samples: 10\n",
            "Number of predictions made: 10\n",
            "Predicted values: tensor([[0.3982],\n",
            "        [0.4049],\n",
            "        [0.4116],\n",
            "        [0.4184],\n",
            "        [0.4251],\n",
            "        [0.4318],\n",
            "        [0.4386],\n",
            "        [0.4453],\n",
            "        [0.4520],\n",
            "        [0.4588]])\n"
          ]
        }
      ]
    },
    {
      "cell_type": "code",
      "source": [
        "plot_predictions(predictions=y_pred)"
      ],
      "metadata": {
        "id": "aYjldUVP1bQo",
        "colab": {
          "base_uri": "https://localhost:8080/",
          "height": 599
        },
        "outputId": "69e8cfb3-3d0b-41ae-a7d6-52fee9677821"
      },
      "execution_count": 319,
      "outputs": [
        {
          "output_type": "display_data",
          "data": {
            "text/plain": [
              "<Figure size 1000x700 with 1 Axes>"
            ],
            "image/png": "[encoded data removed]"
          },
          "metadata": {}
        }
      ]
    },
    {
      "cell_type": "markdown",
      "source": [
        "### Creating a Loss function and Optimizer"
      ],
      "metadata": {
        "id": "Z78MubzEIs5v"
      }
    },
    {
      "cell_type": "code",
      "source": [
        "# create a loss function\n",
        "loss_fn = nn.L1Loss()\n",
        "\n",
        "# create an optimizer\n",
        "optimizer = torch.optim.SGD(params=model_0.parameters(), lr=0.01)"
      ],
      "metadata": {
        "id": "Cq4v_wsHjf_H"
      },
      "execution_count": 320,
      "outputs": []
    },
    {
      "cell_type": "markdown",
      "source": [
        "### Building a Training and Testing Loop"
      ],
      "metadata": {
        "id": "dKrjgNDKZm8_"
      }
    },
    {
      "cell_type": "code",
      "source": [
        "import torch\n",
        "torch.manual_seed(42)\n",
        "# setting the number of epochs\n",
        "epochs = 2000\n",
        "# creating an empty loss list to track values\n",
        "train_loss_values = []\n",
        "test_loss_values = []\n",
        "epoch_count = []\n",
        "\n",
        "for epoch in range(epochs):\n",
        "  # --------------training----------------\n",
        "  # putting model in training mode\n",
        "  model_0.train()\n",
        "\n",
        "  # 1. forward propagation on training data set\n",
        "  y_pred = model_0(X_train)\n",
        "  # print(y_pred)\n",
        "\n",
        "  # 2. calculate the loss\n",
        "  train_loss = loss_fn(y_pred, y_train)\n",
        "\n",
        "  # 3. zero grad of the optimizer\n",
        "  optimizer.zero_grad()\n",
        "\n",
        "  # 4. loss backward\n",
        "  train_loss.backward()\n",
        "\n",
        "  # 5. progress the optimizer\n",
        "  optimizer.step()\n",
        "\n",
        "  # -------------- testing ----------------\n",
        "\n",
        "  model_0.eval()\n",
        "  with torch.inference_mode():\n",
        "    # 1. forward propagation on test data set\n",
        "    test_pred = model_0(X_test)\n",
        "\n",
        "    # 2. calculate the loss on test data\n",
        "    test_loss = loss_fn(test_pred, y_test.type(torch.float))\n",
        "\n",
        "    # 3. printing bts\n",
        "    if epoch % 10 == 0:\n",
        "      epoch_count.append(epoch)\n",
        "      train_loss_values.append(train_loss.detach().numpy())\n",
        "      test_loss_values.append(test_loss.detach().numpy())\n",
        "\n",
        "      print(f\"Epoch: {epoch} | MAE Train Loss: {train_loss} | MAE Test Loss: {test_loss}\")\n",
        "\n",
        "\n",
        "\n",
        "\n"
      ],
      "metadata": {
        "id": "cRfornwOjgUg",
        "colab": {
          "base_uri": "https://localhost:8080/"
        },
        "outputId": "750c422d-8f04-4e7e-f32b-f3c8bc6a0b1d"
      },
      "execution_count": 321,
      "outputs": [
        {
          "output_type": "stream",
          "name": "stdout",
          "text": [
            "Epoch: 0 | MAE Train Loss: 0.31288138031959534 | MAE Test Loss: 0.48106518387794495\n",
            "Epoch: 10 | MAE Train Loss: 0.1976713240146637 | MAE Test Loss: 0.3463551998138428\n",
            "Epoch: 20 | MAE Train Loss: 0.08908725529909134 | MAE Test Loss: 0.21729660034179688\n",
            "Epoch: 30 | MAE Train Loss: 0.053148526698350906 | MAE Test Loss: 0.14464017748832703\n",
            "Epoch: 40 | MAE Train Loss: 0.04543796554207802 | MAE Test Loss: 0.11360953003168106\n",
            "Epoch: 50 | MAE Train Loss: 0.04167863354086876 | MAE Test Loss: 0.09919948130846024\n",
            "Epoch: 60 | MAE Train Loss: 0.03818932920694351 | MAE Test Loss: 0.08886633068323135\n",
            "Epoch: 70 | MAE Train Loss: 0.03476089984178543 | MAE Test Loss: 0.0805937647819519\n",
            "Epoch: 80 | MAE Train Loss: 0.03132382780313492 | MAE Test Loss: 0.07232122868299484\n",
            "Epoch: 90 | MAE Train Loss: 0.02788739837706089 | MAE Test Loss: 0.06473556160926819\n",
            "Epoch: 100 | MAE Train Loss: 0.024458957836031914 | MAE Test Loss: 0.05646304413676262\n",
            "Epoch: 110 | MAE Train Loss: 0.021020207554101944 | MAE Test Loss: 0.04819049686193466\n",
            "Epoch: 120 | MAE Train Loss: 0.01758546568453312 | MAE Test Loss: 0.04060482233762741\n",
            "Epoch: 130 | MAE Train Loss: 0.014155393466353416 | MAE Test Loss: 0.03233227878808975\n",
            "Epoch: 140 | MAE Train Loss: 0.010716589167714119 | MAE Test Loss: 0.024059748277068138\n",
            "Epoch: 150 | MAE Train Loss: 0.0072835334576666355 | MAE Test Loss: 0.016474086791276932\n",
            "Epoch: 160 | MAE Train Loss: 0.0038517764769494534 | MAE Test Loss: 0.008201557211577892\n",
            "Epoch: 170 | MAE Train Loss: 0.008932482451200485 | MAE Test Loss: 0.005023092031478882\n",
            "Epoch: 180 | MAE Train Loss: 0.008932482451200485 | MAE Test Loss: 0.005023092031478882\n",
            "Epoch: 190 | MAE Train Loss: 0.008932482451200485 | MAE Test Loss: 0.005023092031478882\n",
            "Epoch: 200 | MAE Train Loss: 0.008932482451200485 | MAE Test Loss: 0.005023092031478882\n",
            "Epoch: 210 | MAE Train Loss: 0.008932482451200485 | MAE Test Loss: 0.005023092031478882\n",
            "Epoch: 220 | MAE Train Loss: 0.008932482451200485 | MAE Test Loss: 0.005023092031478882\n",
            "Epoch: 230 | MAE Train Loss: 0.008932482451200485 | MAE Test Loss: 0.005023092031478882\n",
            "Epoch: 240 | MAE Train Loss: 0.008932482451200485 | MAE Test Loss: 0.005023092031478882\n",
            "Epoch: 250 | MAE Train Loss: 0.008932482451200485 | MAE Test Loss: 0.005023092031478882\n",
            "Epoch: 260 | MAE Train Loss: 0.008932482451200485 | MAE Test Loss: 0.005023092031478882\n",
            "Epoch: 270 | MAE Train Loss: 0.008932482451200485 | MAE Test Loss: 0.005023092031478882\n",
            "Epoch: 280 | MAE Train Loss: 0.008932482451200485 | MAE Test Loss: 0.005023092031478882\n",
            "Epoch: 290 | MAE Train Loss: 0.008932482451200485 | MAE Test Loss: 0.005023092031478882\n",
            "Epoch: 300 | MAE Train Loss: 0.008932482451200485 | MAE Test Loss: 0.005023092031478882\n",
            "Epoch: 310 | MAE Train Loss: 0.008932482451200485 | MAE Test Loss: 0.005023092031478882\n",
            "Epoch: 320 | MAE Train Loss: 0.008932482451200485 | MAE Test Loss: 0.005023092031478882\n",
            "Epoch: 330 | MAE Train Loss: 0.008932482451200485 | MAE Test Loss: 0.005023092031478882\n",
            "Epoch: 340 | MAE Train Loss: 0.008932482451200485 | MAE Test Loss: 0.005023092031478882\n",
            "Epoch: 350 | MAE Train Loss: 0.008932482451200485 | MAE Test Loss: 0.005023092031478882\n",
            "Epoch: 360 | MAE Train Loss: 0.008932482451200485 | MAE Test Loss: 0.005023092031478882\n",
            "Epoch: 370 | MAE Train Loss: 0.008932482451200485 | MAE Test Loss: 0.005023092031478882\n",
            "Epoch: 380 | MAE Train Loss: 0.008932482451200485 | MAE Test Loss: 0.005023092031478882\n",
            "Epoch: 390 | MAE Train Loss: 0.008932482451200485 | MAE Test Loss: 0.005023092031478882\n",
            "Epoch: 400 | MAE Train Loss: 0.008932482451200485 | MAE Test Loss: 0.005023092031478882\n",
            "Epoch: 410 | MAE Train Loss: 0.008932482451200485 | MAE Test Loss: 0.005023092031478882\n",
            "Epoch: 420 | MAE Train Loss: 0.008932482451200485 | MAE Test Loss: 0.005023092031478882\n",
            "Epoch: 430 | MAE Train Loss: 0.008932482451200485 | MAE Test Loss: 0.005023092031478882\n",
            "Epoch: 440 | MAE Train Loss: 0.008932482451200485 | MAE Test Loss: 0.005023092031478882\n",
            "Epoch: 450 | MAE Train Loss: 0.008932482451200485 | MAE Test Loss: 0.005023092031478882\n",
            "Epoch: 460 | MAE Train Loss: 0.008932482451200485 | MAE Test Loss: 0.005023092031478882\n",
            "Epoch: 470 | MAE Train Loss: 0.008932482451200485 | MAE Test Loss: 0.005023092031478882\n",
            "Epoch: 480 | MAE Train Loss: 0.008932482451200485 | MAE Test Loss: 0.005023092031478882\n",
            "Epoch: 490 | MAE Train Loss: 0.008932482451200485 | MAE Test Loss: 0.005023092031478882\n",
            "Epoch: 500 | MAE Train Loss: 0.008932482451200485 | MAE Test Loss: 0.005023092031478882\n",
            "Epoch: 510 | MAE Train Loss: 0.008932482451200485 | MAE Test Loss: 0.005023092031478882\n",
            "Epoch: 520 | MAE Train Loss: 0.008932482451200485 | MAE Test Loss: 0.005023092031478882\n",
            "Epoch: 530 | MAE Train Loss: 0.008932482451200485 | MAE Test Loss: 0.005023092031478882\n",
            "Epoch: 540 | MAE Train Loss: 0.008932482451200485 | MAE Test Loss: 0.005023092031478882\n",
            "Epoch: 550 | MAE Train Loss: 0.008932482451200485 | MAE Test Loss: 0.005023092031478882\n",
            "Epoch: 560 | MAE Train Loss: 0.008932482451200485 | MAE Test Loss: 0.005023092031478882\n",
            "Epoch: 570 | MAE Train Loss: 0.008932482451200485 | MAE Test Loss: 0.005023092031478882\n",
            "Epoch: 580 | MAE Train Loss: 0.008932482451200485 | MAE Test Loss: 0.005023092031478882\n",
            "Epoch: 590 | MAE Train Loss: 0.008932482451200485 | MAE Test Loss: 0.005023092031478882\n",
            "Epoch: 600 | MAE Train Loss: 0.008932482451200485 | MAE Test Loss: 0.005023092031478882\n",
            "Epoch: 610 | MAE Train Loss: 0.008932482451200485 | MAE Test Loss: 0.005023092031478882\n",
            "Epoch: 620 | MAE Train Loss: 0.008932482451200485 | MAE Test Loss: 0.005023092031478882\n",
            "Epoch: 630 | MAE Train Loss: 0.008932482451200485 | MAE Test Loss: 0.005023092031478882\n",
            "Epoch: 640 | MAE Train Loss: 0.008932482451200485 | MAE Test Loss: 0.005023092031478882\n",
            "Epoch: 650 | MAE Train Loss: 0.008932482451200485 | MAE Test Loss: 0.005023092031478882\n",
            "Epoch: 660 | MAE Train Loss: 0.008932482451200485 | MAE Test Loss: 0.005023092031478882\n",
            "Epoch: 670 | MAE Train Loss: 0.008932482451200485 | MAE Test Loss: 0.005023092031478882\n",
            "Epoch: 680 | MAE Train Loss: 0.008932482451200485 | MAE Test Loss: 0.005023092031478882\n",
            "Epoch: 690 | MAE Train Loss: 0.008932482451200485 | MAE Test Loss: 0.005023092031478882\n",
            "Epoch: 700 | MAE Train Loss: 0.008932482451200485 | MAE Test Loss: 0.005023092031478882\n",
            "Epoch: 710 | MAE Train Loss: 0.008932482451200485 | MAE Test Loss: 0.005023092031478882\n",
            "Epoch: 720 | MAE Train Loss: 0.008932482451200485 | MAE Test Loss: 0.005023092031478882\n",
            "Epoch: 730 | MAE Train Loss: 0.008932482451200485 | MAE Test Loss: 0.005023092031478882\n",
            "Epoch: 740 | MAE Train Loss: 0.008932482451200485 | MAE Test Loss: 0.005023092031478882\n",
            "Epoch: 750 | MAE Train Loss: 0.008932482451200485 | MAE Test Loss: 0.005023092031478882\n",
            "Epoch: 760 | MAE Train Loss: 0.008932482451200485 | MAE Test Loss: 0.005023092031478882\n",
            "Epoch: 770 | MAE Train Loss: 0.008932482451200485 | MAE Test Loss: 0.005023092031478882\n",
            "Epoch: 780 | MAE Train Loss: 0.008932482451200485 | MAE Test Loss: 0.005023092031478882\n",
            "Epoch: 790 | MAE Train Loss: 0.008932482451200485 | MAE Test Loss: 0.005023092031478882\n",
            "Epoch: 800 | MAE Train Loss: 0.008932482451200485 | MAE Test Loss: 0.005023092031478882\n",
            "Epoch: 810 | MAE Train Loss: 0.008932482451200485 | MAE Test Loss: 0.005023092031478882\n",
            "Epoch: 820 | MAE Train Loss: 0.008932482451200485 | MAE Test Loss: 0.005023092031478882\n",
            "Epoch: 830 | MAE Train Loss: 0.008932482451200485 | MAE Test Loss: 0.005023092031478882\n",
            "Epoch: 840 | MAE Train Loss: 0.008932482451200485 | MAE Test Loss: 0.005023092031478882\n",
            "Epoch: 850 | MAE Train Loss: 0.008932482451200485 | MAE Test Loss: 0.005023092031478882\n",
            "Epoch: 860 | MAE Train Loss: 0.008932482451200485 | MAE Test Loss: 0.005023092031478882\n",
            "Epoch: 870 | MAE Train Loss: 0.008932482451200485 | MAE Test Loss: 0.005023092031478882\n",
            "Epoch: 880 | MAE Train Loss: 0.008932482451200485 | MAE Test Loss: 0.005023092031478882\n",
            "Epoch: 890 | MAE Train Loss: 0.008932482451200485 | MAE Test Loss: 0.005023092031478882\n",
            "Epoch: 900 | MAE Train Loss: 0.008932482451200485 | MAE Test Loss: 0.005023092031478882\n",
            "Epoch: 910 | MAE Train Loss: 0.008932482451200485 | MAE Test Loss: 0.005023092031478882\n",
            "Epoch: 920 | MAE Train Loss: 0.008932482451200485 | MAE Test Loss: 0.005023092031478882\n",
            "Epoch: 930 | MAE Train Loss: 0.008932482451200485 | MAE Test Loss: 0.005023092031478882\n",
            "Epoch: 940 | MAE Train Loss: 0.008932482451200485 | MAE Test Loss: 0.005023092031478882\n",
            "Epoch: 950 | MAE Train Loss: 0.008932482451200485 | MAE Test Loss: 0.005023092031478882\n",
            "Epoch: 960 | MAE Train Loss: 0.008932482451200485 | MAE Test Loss: 0.005023092031478882\n",
            "Epoch: 970 | MAE Train Loss: 0.008932482451200485 | MAE Test Loss: 0.005023092031478882\n",
            "Epoch: 980 | MAE Train Loss: 0.008932482451200485 | MAE Test Loss: 0.005023092031478882\n",
            "Epoch: 990 | MAE Train Loss: 0.008932482451200485 | MAE Test Loss: 0.005023092031478882\n",
            "Epoch: 1000 | MAE Train Loss: 0.008932482451200485 | MAE Test Loss: 0.005023092031478882\n",
            "Epoch: 1010 | MAE Train Loss: 0.008932482451200485 | MAE Test Loss: 0.005023092031478882\n",
            "Epoch: 1020 | MAE Train Loss: 0.008932482451200485 | MAE Test Loss: 0.005023092031478882\n",
            "Epoch: 1030 | MAE Train Loss: 0.008932482451200485 | MAE Test Loss: 0.005023092031478882\n",
            "Epoch: 1040 | MAE Train Loss: 0.008932482451200485 | MAE Test Loss: 0.005023092031478882\n",
            "Epoch: 1050 | MAE Train Loss: 0.008932482451200485 | MAE Test Loss: 0.005023092031478882\n",
            "Epoch: 1060 | MAE Train Loss: 0.008932482451200485 | MAE Test Loss: 0.005023092031478882\n",
            "Epoch: 1070 | MAE Train Loss: 0.008932482451200485 | MAE Test Loss: 0.005023092031478882\n",
            "Epoch: 1080 | MAE Train Loss: 0.008932482451200485 | MAE Test Loss: 0.005023092031478882\n",
            "Epoch: 1090 | MAE Train Loss: 0.008932482451200485 | MAE Test Loss: 0.005023092031478882\n",
            "Epoch: 1100 | MAE Train Loss: 0.008932482451200485 | MAE Test Loss: 0.005023092031478882\n",
            "Epoch: 1110 | MAE Train Loss: 0.008932482451200485 | MAE Test Loss: 0.005023092031478882\n",
            "Epoch: 1120 | MAE Train Loss: 0.008932482451200485 | MAE Test Loss: 0.005023092031478882\n",
            "Epoch: 1130 | MAE Train Loss: 0.008932482451200485 | MAE Test Loss: 0.005023092031478882\n",
            "Epoch: 1140 | MAE Train Loss: 0.008932482451200485 | MAE Test Loss: 0.005023092031478882\n",
            "Epoch: 1150 | MAE Train Loss: 0.008932482451200485 | MAE Test Loss: 0.005023092031478882\n",
            "Epoch: 1160 | MAE Train Loss: 0.008932482451200485 | MAE Test Loss: 0.005023092031478882\n",
            "Epoch: 1170 | MAE Train Loss: 0.008932482451200485 | MAE Test Loss: 0.005023092031478882\n",
            "Epoch: 1180 | MAE Train Loss: 0.008932482451200485 | MAE Test Loss: 0.005023092031478882\n",
            "Epoch: 1190 | MAE Train Loss: 0.008932482451200485 | MAE Test Loss: 0.005023092031478882\n",
            "Epoch: 1200 | MAE Train Loss: 0.008932482451200485 | MAE Test Loss: 0.005023092031478882\n",
            "Epoch: 1210 | MAE Train Loss: 0.008932482451200485 | MAE Test Loss: 0.005023092031478882\n",
            "Epoch: 1220 | MAE Train Loss: 0.008932482451200485 | MAE Test Loss: 0.005023092031478882\n",
            "Epoch: 1230 | MAE Train Loss: 0.008932482451200485 | MAE Test Loss: 0.005023092031478882\n",
            "Epoch: 1240 | MAE Train Loss: 0.008932482451200485 | MAE Test Loss: 0.005023092031478882\n",
            "Epoch: 1250 | MAE Train Loss: 0.008932482451200485 | MAE Test Loss: 0.005023092031478882\n",
            "Epoch: 1260 | MAE Train Loss: 0.008932482451200485 | MAE Test Loss: 0.005023092031478882\n",
            "Epoch: 1270 | MAE Train Loss: 0.008932482451200485 | MAE Test Loss: 0.005023092031478882\n",
            "Epoch: 1280 | MAE Train Loss: 0.008932482451200485 | MAE Test Loss: 0.005023092031478882\n",
            "Epoch: 1290 | MAE Train Loss: 0.008932482451200485 | MAE Test Loss: 0.005023092031478882\n",
            "Epoch: 1300 | MAE Train Loss: 0.008932482451200485 | MAE Test Loss: 0.005023092031478882\n",
            "Epoch: 1310 | MAE Train Loss: 0.008932482451200485 | MAE Test Loss: 0.005023092031478882\n",
            "Epoch: 1320 | MAE Train Loss: 0.008932482451200485 | MAE Test Loss: 0.005023092031478882\n",
            "Epoch: 1330 | MAE Train Loss: 0.008932482451200485 | MAE Test Loss: 0.005023092031478882\n",
            "Epoch: 1340 | MAE Train Loss: 0.008932482451200485 | MAE Test Loss: 0.005023092031478882\n",
            "Epoch: 1350 | MAE Train Loss: 0.008932482451200485 | MAE Test Loss: 0.005023092031478882\n",
            "Epoch: 1360 | MAE Train Loss: 0.008932482451200485 | MAE Test Loss: 0.005023092031478882\n",
            "Epoch: 1370 | MAE Train Loss: 0.008932482451200485 | MAE Test Loss: 0.005023092031478882\n",
            "Epoch: 1380 | MAE Train Loss: 0.008932482451200485 | MAE Test Loss: 0.005023092031478882\n",
            "Epoch: 1390 | MAE Train Loss: 0.008932482451200485 | MAE Test Loss: 0.005023092031478882\n",
            "Epoch: 1400 | MAE Train Loss: 0.008932482451200485 | MAE Test Loss: 0.005023092031478882\n",
            "Epoch: 1410 | MAE Train Loss: 0.008932482451200485 | MAE Test Loss: 0.005023092031478882\n",
            "Epoch: 1420 | MAE Train Loss: 0.008932482451200485 | MAE Test Loss: 0.005023092031478882\n",
            "Epoch: 1430 | MAE Train Loss: 0.008932482451200485 | MAE Test Loss: 0.005023092031478882\n",
            "Epoch: 1440 | MAE Train Loss: 0.008932482451200485 | MAE Test Loss: 0.005023092031478882\n",
            "Epoch: 1450 | MAE Train Loss: 0.008932482451200485 | MAE Test Loss: 0.005023092031478882\n",
            "Epoch: 1460 | MAE Train Loss: 0.008932482451200485 | MAE Test Loss: 0.005023092031478882\n",
            "Epoch: 1470 | MAE Train Loss: 0.008932482451200485 | MAE Test Loss: 0.005023092031478882\n",
            "Epoch: 1480 | MAE Train Loss: 0.008932482451200485 | MAE Test Loss: 0.005023092031478882\n",
            "Epoch: 1490 | MAE Train Loss: 0.008932482451200485 | MAE Test Loss: 0.005023092031478882\n",
            "Epoch: 1500 | MAE Train Loss: 0.008932482451200485 | MAE Test Loss: 0.005023092031478882\n",
            "Epoch: 1510 | MAE Train Loss: 0.008932482451200485 | MAE Test Loss: 0.005023092031478882\n",
            "Epoch: 1520 | MAE Train Loss: 0.008932482451200485 | MAE Test Loss: 0.005023092031478882\n",
            "Epoch: 1530 | MAE Train Loss: 0.008932482451200485 | MAE Test Loss: 0.005023092031478882\n",
            "Epoch: 1540 | MAE Train Loss: 0.008932482451200485 | MAE Test Loss: 0.005023092031478882\n",
            "Epoch: 1550 | MAE Train Loss: 0.008932482451200485 | MAE Test Loss: 0.005023092031478882\n",
            "Epoch: 1560 | MAE Train Loss: 0.008932482451200485 | MAE Test Loss: 0.005023092031478882\n",
            "Epoch: 1570 | MAE Train Loss: 0.008932482451200485 | MAE Test Loss: 0.005023092031478882\n",
            "Epoch: 1580 | MAE Train Loss: 0.008932482451200485 | MAE Test Loss: 0.005023092031478882\n",
            "Epoch: 1590 | MAE Train Loss: 0.008932482451200485 | MAE Test Loss: 0.005023092031478882\n",
            "Epoch: 1600 | MAE Train Loss: 0.008932482451200485 | MAE Test Loss: 0.005023092031478882\n",
            "Epoch: 1610 | MAE Train Loss: 0.008932482451200485 | MAE Test Loss: 0.005023092031478882\n",
            "Epoch: 1620 | MAE Train Loss: 0.008932482451200485 | MAE Test Loss: 0.005023092031478882\n",
            "Epoch: 1630 | MAE Train Loss: 0.008932482451200485 | MAE Test Loss: 0.005023092031478882\n",
            "Epoch: 1640 | MAE Train Loss: 0.008932482451200485 | MAE Test Loss: 0.005023092031478882\n",
            "Epoch: 1650 | MAE Train Loss: 0.008932482451200485 | MAE Test Loss: 0.005023092031478882\n",
            "Epoch: 1660 | MAE Train Loss: 0.008932482451200485 | MAE Test Loss: 0.005023092031478882\n",
            "Epoch: 1670 | MAE Train Loss: 0.008932482451200485 | MAE Test Loss: 0.005023092031478882\n",
            "Epoch: 1680 | MAE Train Loss: 0.008932482451200485 | MAE Test Loss: 0.005023092031478882\n",
            "Epoch: 1690 | MAE Train Loss: 0.008932482451200485 | MAE Test Loss: 0.005023092031478882\n",
            "Epoch: 1700 | MAE Train Loss: 0.008932482451200485 | MAE Test Loss: 0.005023092031478882\n",
            "Epoch: 1710 | MAE Train Loss: 0.008932482451200485 | MAE Test Loss: 0.005023092031478882\n",
            "Epoch: 1720 | MAE Train Loss: 0.008932482451200485 | MAE Test Loss: 0.005023092031478882\n",
            "Epoch: 1730 | MAE Train Loss: 0.008932482451200485 | MAE Test Loss: 0.005023092031478882\n",
            "Epoch: 1740 | MAE Train Loss: 0.008932482451200485 | MAE Test Loss: 0.005023092031478882\n",
            "Epoch: 1750 | MAE Train Loss: 0.008932482451200485 | MAE Test Loss: 0.005023092031478882\n",
            "Epoch: 1760 | MAE Train Loss: 0.008932482451200485 | MAE Test Loss: 0.005023092031478882\n",
            "Epoch: 1770 | MAE Train Loss: 0.008932482451200485 | MAE Test Loss: 0.005023092031478882\n",
            "Epoch: 1780 | MAE Train Loss: 0.008932482451200485 | MAE Test Loss: 0.005023092031478882\n",
            "Epoch: 1790 | MAE Train Loss: 0.008932482451200485 | MAE Test Loss: 0.005023092031478882\n",
            "Epoch: 1800 | MAE Train Loss: 0.008932482451200485 | MAE Test Loss: 0.005023092031478882\n",
            "Epoch: 1810 | MAE Train Loss: 0.008932482451200485 | MAE Test Loss: 0.005023092031478882\n",
            "Epoch: 1820 | MAE Train Loss: 0.008932482451200485 | MAE Test Loss: 0.005023092031478882\n",
            "Epoch: 1830 | MAE Train Loss: 0.008932482451200485 | MAE Test Loss: 0.005023092031478882\n",
            "Epoch: 1840 | MAE Train Loss: 0.008932482451200485 | MAE Test Loss: 0.005023092031478882\n",
            "Epoch: 1850 | MAE Train Loss: 0.008932482451200485 | MAE Test Loss: 0.005023092031478882\n",
            "Epoch: 1860 | MAE Train Loss: 0.008932482451200485 | MAE Test Loss: 0.005023092031478882\n",
            "Epoch: 1870 | MAE Train Loss: 0.008932482451200485 | MAE Test Loss: 0.005023092031478882\n",
            "Epoch: 1880 | MAE Train Loss: 0.008932482451200485 | MAE Test Loss: 0.005023092031478882\n",
            "Epoch: 1890 | MAE Train Loss: 0.008932482451200485 | MAE Test Loss: 0.005023092031478882\n",
            "Epoch: 1900 | MAE Train Loss: 0.008932482451200485 | MAE Test Loss: 0.005023092031478882\n",
            "Epoch: 1910 | MAE Train Loss: 0.008932482451200485 | MAE Test Loss: 0.005023092031478882\n",
            "Epoch: 1920 | MAE Train Loss: 0.008932482451200485 | MAE Test Loss: 0.005023092031478882\n",
            "Epoch: 1930 | MAE Train Loss: 0.008932482451200485 | MAE Test Loss: 0.005023092031478882\n",
            "Epoch: 1940 | MAE Train Loss: 0.008932482451200485 | MAE Test Loss: 0.005023092031478882\n",
            "Epoch: 1950 | MAE Train Loss: 0.008932482451200485 | MAE Test Loss: 0.005023092031478882\n",
            "Epoch: 1960 | MAE Train Loss: 0.008932482451200485 | MAE Test Loss: 0.005023092031478882\n",
            "Epoch: 1970 | MAE Train Loss: 0.008932482451200485 | MAE Test Loss: 0.005023092031478882\n",
            "Epoch: 1980 | MAE Train Loss: 0.008932482451200485 | MAE Test Loss: 0.005023092031478882\n",
            "Epoch: 1990 | MAE Train Loss: 0.008932482451200485 | MAE Test Loss: 0.005023092031478882\n"
          ]
        }
      ]
    },
    {
      "cell_type": "code",
      "source": [
        "model_0.state_dict()"
      ],
      "metadata": {
        "id": "A-j7DOJZZmSC",
        "colab": {
          "base_uri": "https://localhost:8080/"
        },
        "outputId": "b7b13810-6009-477c-ad84-e061d9f2a64f"
      },
      "execution_count": 322,
      "outputs": [
        {
          "output_type": "execute_result",
          "data": {
            "text/plain": [
              "OrderedDict([('weights', tensor([0.6990])), ('bias', tensor([0.3093]))])"
            ]
          },
          "metadata": {},
          "execution_count": 322
        }
      ]
    },
    {
      "cell_type": "code",
      "source": [
        "with torch.inference_mode():\n",
        "  y_pred_new = model_0(X_test)"
      ],
      "metadata": {
        "id": "8eyzPW5UZmOe"
      },
      "execution_count": 323,
      "outputs": []
    },
    {
      "cell_type": "code",
      "source": [
        "plot_predictions(predictions=y_pred_new)"
      ],
      "metadata": {
        "id": "370tRNllZmLd",
        "colab": {
          "base_uri": "https://localhost:8080/",
          "height": 599
        },
        "outputId": "e324a389-29bd-42f1-8cc7-e70164752380"
      },
      "execution_count": 324,
      "outputs": [
        {
          "output_type": "display_data",
          "data": {
            "text/plain": [
              "<Figure size 1000x700 with 1 Axes>"
            ],
            "image/png": "[encoded data removed]"
          },
          "metadata": {}
        }
      ]
    },
    {
      "cell_type": "code",
      "source": [
        "plt.plot(epoch_count, train_loss_values, label=\"Train Labels\")\n",
        "plt.plot(epoch_count, test_loss_values, label=\"Test Labels\")\n",
        "\n",
        "plt.title(\"Training and Testing Loss curves\")\n",
        "plt.xlabel(\"Epochs\")\n",
        "plt.ylabel(\"Loss\")\n",
        "plt.legend()"
      ],
      "metadata": {
        "id": "vzetVUF0ZmHz",
        "colab": {
          "base_uri": "https://localhost:8080/",
          "height": 490
        },
        "outputId": "9404189c-7106-4082-f932-a99281e73f29"
      },
      "execution_count": 325,
      "outputs": [
        {
          "output_type": "execute_result",
          "data": {
            "text/plain": [
              "<matplotlib.legend.Legend at 0x7c70c4456f90>"
            ]
          },
          "metadata": {},
          "execution_count": 325
        },
        {
          "output_type": "display_data",
          "data": {
            "text/plain": [
              "<Figure size 640x480 with 1 Axes>"
            ],
            "image/png": "[encoded data removed]"
          },
          "metadata": {}
        }
      ]
    },
    {
      "cell_type": "markdown",
      "source": [
        "### Saving and loading PyTorch model"
      ],
      "metadata": {
        "id": "I12mIf9E8pV1"
      }
    },
    {
      "cell_type": "code",
      "source": [
        "from pathlib import Path\n",
        "\n",
        "# models directory\n",
        "MODEL_PATH = Path(\"models\")\n",
        "MODEL_PATH.mkdir(parents=True, exist_ok=True)\n",
        "\n",
        "MODEL_NAME = \"model_0_pytorch_workflow.pth\"\n",
        "MODEL_SAVE_PATH = MODEL_PATH/MODEL_NAME\n",
        "\n",
        "print(f\"MODEL SAVE PATH: {MODEL_SAVE_PATH}\")\n",
        "\n",
        "torch.save(obj=model_0.state_dict(), f=MODEL_SAVE_PATH)"
      ],
      "metadata": {
        "id": "WARDKIC3ZmDZ",
        "colab": {
          "base_uri": "https://localhost:8080/"
        },
        "outputId": "23b32971-ecc0-4b67-b937-656a1e381963"
      },
      "execution_count": 327,
      "outputs": [
        {
          "output_type": "stream",
          "name": "stdout",
          "text": [
            "MODEL SAVE PATH: models/model_0_pytorch_workflow.pth\n"
          ]
        }
      ]
    },
    {
      "cell_type": "code",
      "source": [
        "# checking the saved file path\n",
        "\n",
        "!ls -l models/model_0_pytorch_workflow.pth"
      ],
      "metadata": {
        "id": "QTJSvQ-cZl90",
        "colab": {
          "base_uri": "https://localhost:8080/"
        },
        "outputId": "6d058d89-69b1-4c08-f4f1-de4841a8b21f"
      },
      "execution_count": 328,
      "outputs": [
        {
          "output_type": "stream",
          "name": "stdout",
          "text": [
            "-rw-r--r-- 1 root root 1662 Feb 25 16:36 models/model_0_pytorch_workflow.pth\n"
          ]
        }
      ]
    },
    {
      "cell_type": "code",
      "source": [
        "# Loading a saved model\n",
        "\n",
        "loaded_model_0 = LinearRegressionModel()\n",
        "loaded_model_0.load_state_dict(torch.load(f=MODEL_SAVE_PATH, weights_only=True))\n",
        "\n",
        "# checking\n",
        "\n",
        "print(f\"Model 0 State Dict: {model_0.state_dict()}\")\n",
        "print(f\"Loaded Model 0 State Dict: {loaded_model_0.state_dict()}\")\n"
      ],
      "metadata": {
        "id": "MamrSybnZl0z",
        "colab": {
          "base_uri": "https://localhost:8080/"
        },
        "outputId": "9cb970a8-fea2-4f35-9eb4-0c3c12d3db11"
      },
      "execution_count": 332,
      "outputs": [
        {
          "output_type": "stream",
          "name": "stdout",
          "text": [
            "Model 0 State Dict: OrderedDict([('weights', tensor([0.6990])), ('bias', tensor([0.3093]))])\n",
            "Loaded Model 0 State Dict: OrderedDict([('weights', tensor([0.6990])), ('bias', tensor([0.3093]))])\n"
          ]
        }
      ]
    },
    {
      "cell_type": "code",
      "source": [],
      "metadata": {
        "id": "dmupJ_Kr_EMr"
      },
      "execution_count": null,
      "outputs": []
    },
    {
      "cell_type": "code",
      "source": [],
      "metadata": {
        "id": "nI85hdv3_EB9"
      },
      "execution_count": null,
      "outputs": []
    },
    {
      "cell_type": "code",
      "source": [],
      "metadata": {
        "id": "1iTw5USF_D2B"
      },
      "execution_count": null,
      "outputs": []
    },
    {
      "cell_type": "code",
      "source": [],
      "metadata": {
        "id": "ND_Xw8RO_DrI"
      },
      "execution_count": null,
      "outputs": []
    },
    {
      "cell_type": "code",
      "source": [],
      "metadata": {
        "id": "EuezscoK_DW9"
      },
      "execution_count": null,
      "outputs": []
    }
  ]
}